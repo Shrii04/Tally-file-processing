{
 "cells": [
  {
   "cell_type": "code",
   "execution_count": 1,
   "id": "e4a58774-4a92-4168-970a-6bc661bc6ea2",
   "metadata": {},
   "outputs": [],
   "source": [
    "import xml.etree.ElementTree as ET\n",
    "import pandas as pd"
   ]
  },
  {
   "cell_type": "code",
   "execution_count": 2,
   "id": "0b1c6ba6-cba2-40a3-98c6-ae972793a2ab",
   "metadata": {},
   "outputs": [],
   "source": [
    "xml_file = \"C:\\\\Users\\\\shri0009\\\\Desktop\\\\TallyProject\\\\Input.xml\"\n",
    "tree = ET.parse(xml_file)\n",
    "root = tree.getroot()\n"
   ]
  },
  {
   "cell_type": "code",
   "execution_count": 3,
   "id": "1a4f0a1d-d0c6-49cb-80e1-6d4d425c8a54",
   "metadata": {},
   "outputs": [
    {
     "name": "stdout",
     "output_type": "stream",
     "text": [
      "Root tag: ENVELOPE\n"
     ]
    }
   ],
   "source": [
    "print(f\"Root tag: {root.tag}\")\n"
   ]
  },
  {
   "cell_type": "code",
   "execution_count": 4,
   "id": "fbdd63b1-1a69-4350-8226-799ec45be4ae",
   "metadata": {},
   "outputs": [
    {
     "name": "stdout",
     "output_type": "stream",
     "text": [
      "Number of VOUCHER tags found: 156\n"
     ]
    }
   ],
   "source": [
    "vouchers = root.findall(\".//VOUCHER\")\n",
    "print(f\"Number of VOUCHER tags found: {len(vouchers)}\")"
   ]
  },
  {
   "cell_type": "code",
   "execution_count": 8,
   "id": "cb6259e1-357d-450d-a9d2-26215bc7df12",
   "metadata": {},
   "outputs": [
    {
     "name": "stdout",
     "output_type": "stream",
     "text": [
      "Extracted data: [{'Voucher Type': 'Receipt', 'Date': '20200701', 'Narration': None}, {'Voucher Type': 'Receipt', 'Date': '20200701', 'Narration': None}, {'Voucher Type': 'Receipt', 'Date': '20200701', 'Narration': None}, {'Voucher Type': 'Receipt', 'Date': '20200701', 'Narration': None}, {'Voucher Type': 'Receipt', 'Date': '20200701', 'Narration': None}, {'Voucher Type': 'Receipt', 'Date': '20200701', 'Narration': None}, {'Voucher Type': 'Receipt', 'Date': '20200701', 'Narration': None}, {'Voucher Type': 'Receipt', 'Date': '20200701', 'Narration': None}, {'Voucher Type': 'Receipt', 'Date': '20200701', 'Narration': None}, {'Voucher Type': 'Receipt', 'Date': '20200701', 'Narration': None}, {'Voucher Type': 'Receipt', 'Date': '20200701', 'Narration': None}, {'Voucher Type': 'Receipt', 'Date': '20200701', 'Narration': None}, {'Voucher Type': 'Receipt', 'Date': '20200701', 'Narration': None}]\n"
     ]
    }
   ],
   "source": [
    "data = []\n",
    "for voucher in root.findall(\".//VOUCHER\"):\n",
    "    vch_type = voucher.find(\"VOUCHERTYPENAME\")\n",
    "    if vch_type is not None and vch_type.text.strip() == \"Receipt\":  # Handle extra spaces\n",
    "        date = voucher.find(\"DATE\").text if voucher.find(\"DATE\") is not None else None\n",
    "        narration = voucher.find(\"NARRATION\").text if voucher.find(\"NARRATION\") is not None else None\n",
    "        amount = None\n",
    "        ledger_name = None\n",
    "\n",
    "        \n",
    "        data.append({\n",
    "            \"Voucher Type\": vch_type.text,\n",
    "            \"Date\": date,\n",
    "            \"Narration\": narration\n",
    "        })\n",
    "\n",
    "print(f\"Extracted data: {data}\")\n"
   ]
  },
  {
   "cell_type": "code",
   "execution_count": 9,
   "id": "c7896ea8-ec71-4e8c-a701-3be0f506535e",
   "metadata": {},
   "outputs": [],
   "source": [
    "ledger_entries = voucher.findall(\"ALLLEDGERENTRIES.LIST\")\n",
    "for ledger in ledger_entries:\n",
    "    ledger_name = ledger.find(\"LEDGERNAME\").text if ledger.find(\"LEDGERNAME\") else None\n",
    "    amount = ledger.find(\"AMOUNT\").text if ledger.find(\"AMOUNT\") else None\n",
    "    data.append({\n",
    "        \"Date\": date,\n",
    "        \"Narration\": narration,\n",
    "        \"Ledger Name\": ledger_name,\n",
    "        \"Amount\": amount\n",
    "    })\n",
    "\n"
   ]
  },
  {
   "cell_type": "code",
   "execution_count": 10,
   "id": "7e34bc95-19e2-4ea2-a4ee-f81bc3f7c187",
   "metadata": {},
   "outputs": [
    {
     "name": "stdout",
     "output_type": "stream",
     "text": [
      "Ledger Entries: [<Element 'ALLLEDGERENTRIES.LIST' at 0x0000016B3221B630>, <Element 'ALLLEDGERENTRIES.LIST' at 0x0000016B3221E270>]\n",
      "Ledger Name: None, Amount: None\n",
      "Ledger Name: None, Amount: None\n",
      "Final Data: [{'Voucher Type': 'Receipt', 'Date': '20200701', 'Narration': None}, {'Voucher Type': 'Receipt', 'Date': '20200701', 'Narration': None}, {'Voucher Type': 'Receipt', 'Date': '20200701', 'Narration': None}, {'Voucher Type': 'Receipt', 'Date': '20200701', 'Narration': None}, {'Voucher Type': 'Receipt', 'Date': '20200701', 'Narration': None}, {'Voucher Type': 'Receipt', 'Date': '20200701', 'Narration': None}, {'Voucher Type': 'Receipt', 'Date': '20200701', 'Narration': None}, {'Voucher Type': 'Receipt', 'Date': '20200701', 'Narration': None}, {'Voucher Type': 'Receipt', 'Date': '20200701', 'Narration': None}, {'Voucher Type': 'Receipt', 'Date': '20200701', 'Narration': None}, {'Voucher Type': 'Receipt', 'Date': '20200701', 'Narration': None}, {'Voucher Type': 'Receipt', 'Date': '20200701', 'Narration': None}, {'Voucher Type': 'Receipt', 'Date': '20200701', 'Narration': None}, {'Date': '20200701', 'Narration': None, 'Ledger Name': None, 'Amount': None}, {'Date': '20200701', 'Narration': None, 'Ledger Name': None, 'Amount': None}, {'Date': '20200701', 'Narration': None, 'Ledger Name': None, 'Amount': None}, {'Date': '20200701', 'Narration': None, 'Ledger Name': None, 'Amount': None}]\n"
     ]
    }
   ],
   "source": [
    "ledger_entries = voucher.findall(\"ALLLEDGERENTRIES.LIST\")\n",
    "print(\"Ledger Entries:\", ledger_entries)\n",
    "\n",
    "for ledger in ledger_entries:\n",
    "    ledger_name = ledger.find(\"LEDGERNAME\").text if ledger.find(\"LEDGERNAME\") else None\n",
    "    amount = ledger.find(\"AMOUNT\").text if ledger.find(\"AMOUNT\") else None\n",
    "    print(f\"Ledger Name: {ledger_name}, Amount: {amount}\")\n",
    "\n",
    "    data.append({\n",
    "        \"Date\": date,\n",
    "        \"Narration\": narration,\n",
    "        \"Ledger Name\": ledger_name,\n",
    "        \"Amount\": amount\n",
    "    })\n",
    "\n",
    "print(\"Final Data:\", data)\n"
   ]
  },
  {
   "cell_type": "code",
   "execution_count": 12,
   "id": "bf100b32-c517-4dfe-9830-bd8e92c0df0a",
   "metadata": {},
   "outputs": [
    {
     "name": "stdout",
     "output_type": "stream",
     "text": [
      "Excel file saved as Output.xlsx\n"
     ]
    }
   ],
   "source": [
    "\n",
    "df = pd.DataFrame(data)\n",
    "output_file = \"Output.xlsx\"\n",
    "df.to_excel(output_file, index=False)\n",
    "\n",
    "print(f\"Excel file saved as {output_file}\")"
   ]
  },
  {
   "cell_type": "code",
   "execution_count": 14,
   "id": "bec6d657-79f9-45a0-a0df-1e237f7d8a61",
   "metadata": {},
   "outputs": [
    {
     "name": "stdout",
     "output_type": "stream",
     "text": [
      "Excel file saved at: Output.xlsx\n"
     ]
    }
   ],
   "source": [
    "\n",
    "# Assuming 'data' contains the extracted information\n",
    "data = [{'Voucher Type': 'Receipt', 'Date': '20200701', 'Narration': None}, {'Voucher Type': 'Receipt', 'Date': '20200701', 'Narration': None}, {'Voucher Type': 'Receipt', 'Date': '20200701', 'Narration': None}, {'Voucher Type': 'Receipt', 'Date': '20200701', 'Narration': None}, {'Voucher Type': 'Receipt', 'Date': '20200701', 'Narration': None}, {'Voucher Type': 'Receipt', 'Date': '20200701', 'Narration': None}, {'Voucher Type': 'Receipt', 'Date': '20200701', 'Narration': None}, {'Voucher Type': 'Receipt', 'Date': '20200701', 'Narration': None}, {'Voucher Type': 'Receipt', 'Date': '20200701', 'Narration': None}, {'Voucher Type': 'Receipt', 'Date': '20200701', 'Narration': None}, {'Voucher Type': 'Receipt', 'Date': '20200701', 'Narration': None}, {'Voucher Type': 'Receipt', 'Date': '20200701', 'Narration': None}, {'Voucher Type': 'Receipt', 'Date': '20200701', 'Narration': None}, {'Date': '20200701', 'Narration': None, 'Ledger Name': None, 'Amount': None}, {'Date': '20200701', 'Narration': None, 'Ledger Name': None, 'Amount': None}, {'Date': '20200701', 'Narration': None, 'Ledger Name': None, 'Amount': None}, {'Date': '20200701', 'Narration': None, 'Ledger Name': None, 'Amount': None}]\n",
    "# Convert the list of dictionaries to a DataFrame\n",
    "df = pd.DataFrame(data)\n",
    "\n",
    "# Save to an Excel file\n",
    "output_file = \"Output.xlsx\"  \n",
    "df.to_excel(output_file, index=False)\n",
    "\n",
    "print(f\"Excel file saved at: {output_file}\")\n"
   ]
  },
  {
   "cell_type": "code",
   "execution_count": null,
   "id": "f8498032-412f-4dfa-8b49-d5034148de28",
   "metadata": {},
   "outputs": [],
   "source": []
  }
 ],
 "metadata": {
  "kernelspec": {
   "display_name": "Python 3 (ipykernel)",
   "language": "python",
   "name": "python3"
  },
  "language_info": {
   "codemirror_mode": {
    "name": "ipython",
    "version": 3
   },
   "file_extension": ".py",
   "mimetype": "text/x-python",
   "name": "python",
   "nbconvert_exporter": "python",
   "pygments_lexer": "ipython3",
   "version": "3.9.12"
  }
 },
 "nbformat": 4,
 "nbformat_minor": 5
}
